{
 "cells": [
  {
   "cell_type": "code",
   "execution_count": 1,
   "metadata": {},
   "outputs": [],
   "source": [
    "import sqlite3\n",
    "import pandas as pd\n"
   ]
  },
  {
   "cell_type": "code",
   "execution_count": 2,
   "metadata": {},
   "outputs": [],
   "source": [
    "# 諸々を記録したDBを読み込む\n",
    "dbname = 'hsr.db'\n",
    "conn = sqlite3.connect(dbname)\n"
   ]
  },
  {
   "cell_type": "code",
   "execution_count": 3,
   "metadata": {},
   "outputs": [],
   "source": [
    "# カーソルの取得\n",
    "cur = conn.cursor()\n"
   ]
  },
  {
   "cell_type": "code",
   "execution_count": 4,
   "metadata": {},
   "outputs": [],
   "source": [
    "# キャラクター情報の取得\n",
    "res = cur.execute('SELECT * FROM characters')\n",
    "characters = res.fetchall()\n"
   ]
  },
  {
   "cell_type": "code",
   "execution_count": 5,
   "metadata": {},
   "outputs": [],
   "source": [
    "# キャラクター名のみ取得\n",
    "character_names = [character[1] for character in characters]\n"
   ]
  },
  {
   "cell_type": "code",
   "execution_count": 21,
   "metadata": {},
   "outputs": [],
   "source": [
    "# 遺物名の取得\n",
    "res = cur.execute('SELECT * FROM relic_name')\n",
    "relic_infos = res.fetchall()\n"
   ]
  },
  {
   "cell_type": "code",
   "execution_count": 22,
   "metadata": {},
   "outputs": [],
   "source": [
    "relic_names = [relic_info[1] for relic_info in relic_infos]\n"
   ]
  },
  {
   "cell_type": "code",
   "execution_count": 27,
   "metadata": {},
   "outputs": [],
   "source": [
    "# キャラクターと遺物の対応表の出力\n",
    "relic_df = pd.DataFrame(index=character_names, columns=relic_names)\n",
    "relic_df.to_excel('遺物表.xlsx')\n"
   ]
  },
  {
   "cell_type": "code",
   "execution_count": 23,
   "metadata": {},
   "outputs": [],
   "source": [
    "# 胴部のメインステータスの取得\n",
    "res = cur.execute('SELECT * FROM relic_status_body')\n",
    "relic_status_body_infos = res.fetchall()\n"
   ]
  },
  {
   "cell_type": "code",
   "execution_count": 24,
   "metadata": {},
   "outputs": [],
   "source": [
    "relic_body_main = [relic_status_body_info[1] for relic_status_body_info in relic_status_body_infos]\n"
   ]
  },
  {
   "cell_type": "code",
   "execution_count": 28,
   "metadata": {},
   "outputs": [],
   "source": [
    "# キャラクターと胴メインステータスの対応表の出力\n",
    "relic_body_df = pd.DataFrame(index=character_names, columns=relic_body_main)\n",
    "relic_body_df.to_excel('胴メイン.xlsx')\n"
   ]
  },
  {
   "cell_type": "code",
   "execution_count": 25,
   "metadata": {},
   "outputs": [],
   "source": [
    "# 足部のメインステータスの取得\n",
    "res = cur.execute('SELECT * FROM relic_status_feet')\n",
    "relic_status_feet_infos = res.fetchall()\n"
   ]
  },
  {
   "cell_type": "code",
   "execution_count": 26,
   "metadata": {},
   "outputs": [],
   "source": [
    "relic_feet_main = [relic_status_feet_info[1] for relic_status_feet_info in relic_status_feet_infos]\n"
   ]
  },
  {
   "cell_type": "code",
   "execution_count": 29,
   "metadata": {},
   "outputs": [],
   "source": [
    "# キャラクターと足メインステータスの対応表の出力\n",
    "relic_feet_df = pd.DataFrame(index=character_names, columns=relic_feet_main)\n",
    "relic_feet_df.to_excel('足メイン.xlsx')\n"
   ]
  },
  {
   "cell_type": "code",
   "execution_count": 6,
   "metadata": {},
   "outputs": [],
   "source": [
    "# オーナメント名の取得\n",
    "res = cur.execute('SELECT * FROM ornament_name')\n",
    "ornament_infos = res.fetchall()\n"
   ]
  },
  {
   "cell_type": "code",
   "execution_count": 8,
   "metadata": {},
   "outputs": [],
   "source": [
    "ornament_names = [ornament_info[1] for ornament_info in ornament_infos]\n"
   ]
  },
  {
   "cell_type": "code",
   "execution_count": 10,
   "metadata": {},
   "outputs": [],
   "source": [
    "# キャラクターとオーナメントの対応表の出力\n",
    "ornament_df = pd.DataFrame(index=character_names, columns=ornament_names)\n",
    "ornament_df.to_excel('オーナメント表.xlsx')\n"
   ]
  },
  {
   "cell_type": "code",
   "execution_count": 11,
   "metadata": {},
   "outputs": [],
   "source": [
    "# オーブのメインステータスの取得\n",
    "res = cur.execute('SELECT * FROM ornament_status_sphere')\n",
    "ornament_status_sphere_infos = res.fetchall()\n"
   ]
  },
  {
   "cell_type": "code",
   "execution_count": 12,
   "metadata": {},
   "outputs": [],
   "source": [
    "ornament_sphere_main = [ornament_status_sphere_info[1] for ornament_status_sphere_info in ornament_status_sphere_infos]\n"
   ]
  },
  {
   "cell_type": "code",
   "execution_count": 13,
   "metadata": {},
   "outputs": [],
   "source": [
    "# キャラクターと胴メインステータスの対応表の出力\n",
    "ornament_sphere_df = pd.DataFrame(index=character_names, columns=ornament_sphere_main)\n",
    "ornament_sphere_df.to_excel('玉メイン.xlsx')\n"
   ]
  },
  {
   "cell_type": "code",
   "execution_count": 14,
   "metadata": {},
   "outputs": [],
   "source": [
    "# 縄のメインステータスの取得\n",
    "res = cur.execute('SELECT * FROM ornament_status_link')\n",
    "ornament_status_link_infos = res.fetchall()\n"
   ]
  },
  {
   "cell_type": "code",
   "execution_count": 15,
   "metadata": {},
   "outputs": [],
   "source": [
    "ornament_link_main = [ornament_status_link_info[1] for ornament_status_link_info in ornament_status_link_infos]\n"
   ]
  },
  {
   "cell_type": "code",
   "execution_count": 16,
   "metadata": {},
   "outputs": [],
   "source": [
    "# キャラクターと足メインステータスの対応表の出力\n",
    "ornament_link_df = pd.DataFrame(index=character_names, columns=ornament_link_main)\n",
    "ornament_link_df.to_excel('縄メイン.xlsx')\n"
   ]
  },
  {
   "cell_type": "code",
   "execution_count": null,
   "metadata": {},
   "outputs": [],
   "source": []
  },
  {
   "cell_type": "code",
   "execution_count": 30,
   "metadata": {},
   "outputs": [],
   "source": [
    "# クローズ処理\n",
    "cur.close()\n",
    "conn.close()\n"
   ]
  },
  {
   "cell_type": "code",
   "execution_count": null,
   "metadata": {},
   "outputs": [],
   "source": []
  }
 ],
 "metadata": {
  "kernelspec": {
   "display_name": "Python 3",
   "language": "python",
   "name": "python3"
  },
  "language_info": {
   "codemirror_mode": {
    "name": "ipython",
    "version": 3
   },
   "file_extension": ".py",
   "mimetype": "text/x-python",
   "name": "python",
   "nbconvert_exporter": "python",
   "pygments_lexer": "ipython3",
   "version": "3.0.0"
  }
 },
 "nbformat": 4,
 "nbformat_minor": 2
}
