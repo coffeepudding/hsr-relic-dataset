{
 "cells": [
  {
   "cell_type": "code",
   "execution_count": 1,
   "metadata": {},
   "outputs": [],
   "source": [
    "import pandas as pd\n",
    "import numpy as np\n"
   ]
  },
  {
   "cell_type": "code",
   "execution_count": 2,
   "metadata": {},
   "outputs": [],
   "source": [
    "# キャラクター対応表の読み込み\n",
    "main_df = pd.read_excel('遺物表.xlsx', index_col=0)\n",
    "# 胴対応表の読み込み\n",
    "body_df = pd.read_excel('胴メイン.xlsx', index_col=0)\n",
    "# 足対応表の読み込み\n",
    "feet_df = pd.read_excel('足メイン.xlsx', index_col=0)\n",
    "# キャラクター対応表の読み込み\n",
    "ornament_df = pd.read_excel('オーナメント表.xlsx', index_col=0)\n",
    "# 玉対応表の読み込み\n",
    "sphere_df = pd.read_excel('玉メイン.xlsx', index_col=0)\n",
    "# 縄対応表の読み込み\n",
    "link_df = pd.read_excel('縄メイン.xlsx', index_col=0)\n"
   ]
  },
  {
   "cell_type": "code",
   "execution_count": 3,
   "metadata": {},
   "outputs": [],
   "source": [
    "# 読み込んだデータをboolに変換\n",
    "def change_bool(x):\n",
    "    # 何か入力されていたらTrue\n",
    "    if isinstance(x, str):\n",
    "        return True\n",
    "    return False\n"
   ]
  },
  {
   "cell_type": "code",
   "execution_count": 4,
   "metadata": {},
   "outputs": [],
   "source": [
    "# データをboolに修正\n",
    "main_df = main_df.map(change_bool)\n",
    "body_df = body_df.map(change_bool)\n",
    "feet_df = feet_df.map(change_bool)\n",
    "ornament_df = ornament_df.map(change_bool)\n",
    "sphere_df = sphere_df.map(change_bool)\n",
    "link_df = link_df.map(change_bool)\n"
   ]
  },
  {
   "cell_type": "code",
   "execution_count": 6,
   "metadata": {},
   "outputs": [],
   "source": [
    "def result_union(x):\n",
    "    if len(np.where(x)[0]) > 0:\n",
    "        return True\n",
    "    return False\n"
   ]
  },
  {
   "cell_type": "code",
   "execution_count": 19,
   "metadata": {},
   "outputs": [],
   "source": [
    "def show_relic_result(relic_name='草の穂ガンマン'):\n",
    "    # 対応するキャラ名を配列で取得\n",
    "    target_index = main_df[main_df[relic_name] == True].index\n",
    "    # 列名重複の回避\n",
    "    body = body_df.loc[target_index].apply(result_union, axis=0).rename(lambda x: f'胴_{x}')\n",
    "    feet = feet_df.loc[target_index].apply(result_union, axis=0).rename(lambda x: f'足_{x}')\n",
    "    # index名を付与\n",
    "    return pd.concat([body, feet]).rename(relic_name)\n"
   ]
  },
  {
   "cell_type": "code",
   "execution_count": 36,
   "metadata": {},
   "outputs": [],
   "source": [
    "def show_ornament_result(ornament_name='宇宙封印ステーション'):\n",
    "    # 対応するキャラ名を配列で取得\n",
    "    target_index = ornament_df[ornament_df[ornament_name] == True].index\n",
    "    # 列名重複の回避\n",
    "    sphere = sphere_df.loc[target_index].apply(result_union, axis=0).rename(lambda x: f'玉_{x}')\n",
    "    link = link_df.loc[target_index].apply(result_union, axis=0).rename(lambda x: f'縄_{x}')\n",
    "    # index名を付与\n",
    "    return pd.concat([sphere, link]).rename(ornament_name)\n"
   ]
  },
  {
   "cell_type": "code",
   "execution_count": 29,
   "metadata": {},
   "outputs": [],
   "source": [
    "relic_summary = pd.DataFrame()\n"
   ]
  },
  {
   "cell_type": "code",
   "execution_count": 30,
   "metadata": {},
   "outputs": [],
   "source": [
    "for relic_name in main_df.columns:\n",
    "    result = show_relic_result(relic_name=relic_name)\n",
    "    relic_summary = pd.concat([relic_summary, result.to_frame().T])\n"
   ]
  },
  {
   "cell_type": "code",
   "execution_count": 32,
   "metadata": {},
   "outputs": [],
   "source": [
    "relic_summary.to_excel('遺物厳選メモ.xlsx')\n"
   ]
  },
  {
   "cell_type": "code",
   "execution_count": 37,
   "metadata": {},
   "outputs": [],
   "source": [
    "ornament_summary = pd.DataFrame()\n"
   ]
  },
  {
   "cell_type": "code",
   "execution_count": 38,
   "metadata": {},
   "outputs": [],
   "source": [
    "for ornament_name in ornament_df.columns:\n",
    "    result = show_ornament_result(ornament_name=ornament_name)\n",
    "    ornament_summary = pd.concat([ornament_summary, result.to_frame().T])\n"
   ]
  },
  {
   "cell_type": "code",
   "execution_count": 40,
   "metadata": {},
   "outputs": [],
   "source": [
    "ornament_summary.to_excel('オーナメント厳選メモ.xlsx')\n"
   ]
  },
  {
   "cell_type": "code",
   "execution_count": null,
   "metadata": {},
   "outputs": [],
   "source": []
  }
 ],
 "metadata": {
  "kernelspec": {
   "display_name": "Python 3",
   "language": "python",
   "name": "python3"
  },
  "language_info": {
   "codemirror_mode": {
    "name": "ipython",
    "version": 3
   },
   "file_extension": ".py",
   "mimetype": "text/x-python",
   "name": "python",
   "nbconvert_exporter": "python",
   "pygments_lexer": "ipython3",
   "version": "3.11.6"
  }
 },
 "nbformat": 4,
 "nbformat_minor": 2
}
