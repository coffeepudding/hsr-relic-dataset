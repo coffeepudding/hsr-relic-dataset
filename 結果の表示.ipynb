{
 "cells": [
  {
   "cell_type": "code",
   "execution_count": 1,
   "metadata": {},
   "outputs": [],
   "source": [
    "import pandas as pd\n",
    "import numpy as np\n"
   ]
  },
  {
   "cell_type": "code",
   "execution_count": 2,
   "metadata": {},
   "outputs": [],
   "source": [
    "# キャラクター対応表の読み込み\n",
    "main_df = pd.read_excel('遺物表.xlsx', index_col=0)\n",
    "# 胴対応表の読み込み\n",
    "body_df = pd.read_excel('胴メイン.xlsx', index_col=0)\n",
    "# 足対応表の読み込み\n",
    "feet_df = pd.read_excel('足メイン.xlsx', index_col=0)\n"
   ]
  },
  {
   "cell_type": "code",
   "execution_count": 3,
   "metadata": {},
   "outputs": [],
   "source": [
    "# 読み込んだデータをboolに変換\n",
    "def change_bool(x):\n",
    "    # 何か入力されていたらTrue\n",
    "    if isinstance(x, str):\n",
    "        return True\n",
    "    return False\n"
   ]
  },
  {
   "cell_type": "code",
   "execution_count": 4,
   "metadata": {},
   "outputs": [],
   "source": [
    "# データをboolに修正\n",
    "main_df = main_df.map(change_bool)\n",
    "body_df = body_df.map(change_bool)\n",
    "feet_df = feet_df.map(change_bool)\n"
   ]
  },
  {
   "cell_type": "code",
   "execution_count": 5,
   "metadata": {},
   "outputs": [
    {
     "data": {
      "text/plain": [
       "Index(['流雲無痕の過客', '草の穂ガンマン', '純庭教会の聖騎士', '雪の密林の狩人', '成り上がりチャンピオン', '吹雪と対峙する兵士',\n",
       "       '溶岩で鍛造する火匠', '星の如く輝く天才', '雷鳴轟くバンド', '昼夜の狭間を翔ける鷹', '流星の跡を追う怪盗',\n",
       "       '荒地で盗みを働く廃土客', '宝命長存の蒔者', '仮想空間を漫遊するメッセンジャー', '灰燼を燃やし尽くす大公', '深い牢獄の囚人',\n",
       "       'テスト'],\n",
       "      dtype='object')"
      ]
     },
     "execution_count": 5,
     "metadata": {},
     "output_type": "execute_result"
    }
   ],
   "source": [
    "main_df.columns\n"
   ]
  },
  {
   "cell_type": "code",
   "execution_count": 9,
   "metadata": {},
   "outputs": [],
   "source": [
    "def result_union(x):\n",
    "    if len(np.where(x)[0]) > 0:\n",
    "        return True\n",
    "    return False\n"
   ]
  },
  {
   "cell_type": "code",
   "execution_count": 10,
   "metadata": {},
   "outputs": [],
   "source": [
    "def show_result(relic_name='草の穂ガンマン'):\n",
    "    # 対応するキャラ名を配列で取得\n",
    "    target_index = main_df[main_df[relic_name] == True].index\n",
    "    print(body_df.loc[target_index].apply(result_union, axis=0))\n",
    "    print(feet_df.loc[target_index].apply(result_union, axis=0)\n",
    ")\n"
   ]
  },
  {
   "cell_type": "code",
   "execution_count": 12,
   "metadata": {},
   "outputs": [
    {
     "name": "stdout",
     "output_type": "stream",
     "text": [
      "HP%       False\n",
      "攻撃力%      False\n",
      "防御力%      False\n",
      "会心率        True\n",
      "会心ダメージ    False\n",
      "治癒量       False\n",
      "効果命中       True\n",
      "dtype: bool\n",
      "HP%     False\n",
      "攻撃力％     True\n",
      "防御力％    False\n",
      "速度       True\n",
      "dtype: bool\n"
     ]
    }
   ],
   "source": [
    "show_result(relic_name='星の如く輝く天才')\n"
   ]
  },
  {
   "cell_type": "code",
   "execution_count": null,
   "metadata": {},
   "outputs": [],
   "source": []
  }
 ],
 "metadata": {
  "kernelspec": {
   "display_name": "Python 3",
   "language": "python",
   "name": "python3"
  },
  "language_info": {
   "codemirror_mode": {
    "name": "ipython",
    "version": 3
   },
   "file_extension": ".py",
   "mimetype": "text/x-python",
   "name": "python",
   "nbconvert_exporter": "python",
   "pygments_lexer": "ipython3",
   "version": "3.11.6"
  }
 },
 "nbformat": 4,
 "nbformat_minor": 2
}
